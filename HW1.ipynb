{
 "cells": [
  {
   "cell_type": "markdown",
   "id": "ffe0265f",
   "metadata": {
    "slideshow": {
     "slide_type": "slide"
    }
   },
   "source": [
    "# Class Activity [7 minute]:<br>Most Basic Bayesian Interview Question\n",
    "\n",
    "---\n",
    "\n",
    "> What's the chance you have the disease if you tested postive?\n",
    "\n",
    "- What do you need to know to answer this?\n",
    "\n",
    "\n",
    "\\begin{align*}\n",
    "\\color{white}{Pr(D)} &\\color{white}{=}{} \\color{white}{p} &\\color{white}{\\Longrightarrow}{} && \\color{white}{Pr(\\text{not }D)} &\\color{white}{=}{} \\color{white}{1-p}  \\\\\n",
    "\\color{white}{Pr(+|D)} &\\color{white}{=}{} \\color{white}{q} &\\color{white}{\\Longrightarrow}{} && \\color{white}{Pr(-|D)} &\\color{white}{=}{} \\color{white}{1-q}\\\\\n",
    "\\color{white}{Pr(+|\\text{not }D)} &\\color{white}{=}{} \\color{white}{q'} &\\color{white}{\\Longrightarrow}{} && \\color{white}{Pr(-|\\text{not }D)} &\\color{white}{=}{} \\color{white}{1-q'}\\\\\\\\\n",
    "Pr(D|+) &={} ?\\\\\n",
    "\\end{align*}\n"
   ]
  },
  {
   "cell_type": "markdown",
   "id": "b798c3f4",
   "metadata": {
    "slideshow": {
     "slide_type": "slide"
    }
   },
   "source": [
    "# Class Activity [10 minutes]:<br>Most Basic Bayesian Interview Question\n",
    "\n",
    "---\n",
    "\n",
    "> What's the chance you have the disease if you tested postive?\n",
    "\n",
    "- What do you need to know to answer this?\n",
    "\n",
    "\n",
    "\\begin{align*}\n",
    "\\color{black}{Pr(D)} &\\color{black}{=}{} \\color{black}{p} &\\color{black}{\\Longrightarrow}{} && \\color{black}{Pr(\\text{not }D)} &\\color{black}{=}{} \\color{black}{1-p}  \\\\\n",
    "\\color{black}{Pr(+|D)} &\\color{black}{=}{} \\color{black}{q} &\\color{black}{\\Longrightarrow}{} && \\color{black}{Pr(-|D)} &\\color{black}{=}{} \\color{black}{1-q}\\\\\n",
    "\\color{black}{Pr(+|\\text{not }D)} &\\color{black}{=}{} \\color{black}{q'} &\\color{black}{\\Longrightarrow}{} && \\color{back}{Pr(-|\\text{not }D)} &\\color{black}{=}{} \\color{black}{1-q'}\\\\\\\\\n",
    "\\color{red}{Pr(D|+)} &\\color{red}{=}{} \\color{red}{?}\\\\\n",
    "\\end{align*}\n"
   ]
  },
  {
   "cell_type": "markdown",
   "id": "25f3de64",
   "metadata": {
    "slideshow": {
     "slide_type": "slide"
    }
   },
   "source": [
    "# Answer Review [4 minutes]<br>Most Basic Bayesian Interview Question\n",
    "\n",
    "---\n",
    "\n",
    "### Law of Total Probability \n",
    "\n",
    "\\begin{align*}\n",
    "\\color{black}{Pr(+)} &\\color{black}{=}{} \\color{black}{\\sum_{\\mathcal{x\\in X}} Pr(+,x) = }\\color{white}{Pr(+,D) + Pr(+,\\text{not }D)}\\\\\n",
    "&\\color{white}{=}{} \\color{white}{Pr(+|D)Pr(D) + Pr(+|\\text{not }D)Pr(\\text{not }D) = qp + q'(1-p)}\n",
    "\\end{align*}\n",
    "\n",
    "<h3 style=\"color:white;\"> Bayes Theorem </h3>\n",
    "\n",
    "\\begin{align*}\n",
    "\\color{white}{Pr(D|+)} &\\color{white}{=}{} \\color{white}{\\frac{Pr(+|D)Pr(D)}{Pr(+)} = \\frac{qp}{qp + q'(1-p)}}\n",
    "\\end{align*}\n"
   ]
  },
  {
   "cell_type": "markdown",
   "id": "722b69fa",
   "metadata": {
    "slideshow": {
     "slide_type": "slide"
    }
   },
   "source": [
    "# Answer Review [4 minutes]<br>Most Basic Bayesian Interview Question\n",
    "\n",
    "---\n",
    "\n",
    "### Law of Total Probability \n",
    "\n",
    "\\begin{align*}\n",
    "\\color{black}{Pr(+)} &\\color{black}{=}{} \\color{black}{\\sum_{\\mathcal{x\\in X}} Pr(+,x) = Pr(+,D) + Pr(+,\\text{not }D)}\\\\\n",
    "&\\color{black}{=}{} \\color{black}{Pr(+|D)Pr(D) + Pr(+|\\text{not }D)Pr(\\text{not }D) = qp + q'(1-p)}\n",
    "\\end{align*}\n",
    "\n",
    "<h3 style=\"color:white;\"> Bayes Theorem </h3>\n",
    "\n",
    "\\begin{align*}\n",
    "\\color{white}{Pr(D|+)} &\\color{white}{=}{} \\color{white}{\\frac{Pr(+|D)Pr(D)}{Pr(+)} = \\frac{qp}{qp + q'(1-p)}}\n",
    "\\end{align*}\n"
   ]
  },
  {
   "cell_type": "markdown",
   "id": "22eae9e0",
   "metadata": {
    "slideshow": {
     "slide_type": "slide"
    }
   },
   "source": [
    "# Answer Review [4 minutes]<br>Most Basic Bayesian Interview Question\n",
    "\n",
    "---\n",
    "\n",
    "### Law of Total Probability \n",
    "\n",
    "\\begin{align*}\n",
    "\\color{black}{Pr(+)} &\\color{black}{=}{} \\color{black}{\\sum_{\\mathcal{x\\in X}} Pr(+,x) = Pr(+,D) + Pr(+,\\text{not }D)}\\\\\n",
    "&\\color{black}{=}{} \\color{black}{Pr(+|D)Pr(D) + Pr(+|\\text{not }D)Pr(\\text{not }D) = qp + q'(1-p)}\n",
    "\\end{align*}\n",
    "\n",
    "### Bayes Theorem \n",
    "\n",
    "\\begin{align*}\n",
    "\\color{black}{Pr(D|+)} &\\color{black}{=}{} \\color{white}{\\frac{\\color{white}{Pr(+|D)Pr(D)}}{Pr(+)} = \\frac{\\color{white}{Pr(+|D)Pr(D)}}{\\color{white}{Pr(+|D)Pr(D)} + Pr(+|\\text{not }D) Pr(\\text{not }D)} = \\frac{qp}{qp + q'(1-p)}}\n",
    "\\end{align*}\n"
   ]
  },
  {
   "cell_type": "markdown",
   "id": "371f2dca",
   "metadata": {
    "slideshow": {
     "slide_type": "slide"
    }
   },
   "source": [
    "# Answer Review [4 minutes]<br>Most Basic Bayesian Interview Question\n",
    "\n",
    "---\n",
    "\n",
    "### Law of Total Probability \n",
    "\n",
    "\\begin{align*}\n",
    "\\color{black}{Pr(+)} &\\color{black}{=}{} \\color{black}{\\sum_{\\mathcal{x\\in X}} Pr(+,x) = Pr(+,D) + Pr(+,\\text{not }D)}\\\\\n",
    "&\\color{black}{=}{} \\color{black}{\\color{blue}{Pr(+|D)Pr(D)} + Pr(+|\\text{not }D)Pr(\\text{not }D) = qp + q'(1-p)}\n",
    "\\end{align*}\n",
    "\n",
    "### Bayes Theorem \n",
    "\n",
    "\\begin{align*}\n",
    "\\color{black}{Pr(D|+)} &\\color{black}{=}{} \\color{black}{\\frac{\\color{blue}{Pr(+|D)Pr(D)}}{Pr(+)} = \\frac{\\color{blue}{Pr(+|D)Pr(D)}}{\\color{blue}{Pr(+|D)Pr(D)} + Pr(+|\\text{not }D) Pr(\\text{not }D)} = \\frac{qp}{qp + q'(1-p)}}\n",
    "\\end{align*}\n"
   ]
  },
  {
   "cell_type": "markdown",
   "id": "5b45113c",
   "metadata": {
    "slideshow": {
     "slide_type": "slide"
    }
   },
   "source": [
    "# Bayesian Versus Frequentist Philosophy<br>[2 minutes]\n",
    "\n",
    "- ***FREQUENTIST***:<font style=\"color:white;\"><br>**Parameter** $\\theta$ in a **likelihood** $f_\\theta(x)$ is a fixed value to be estimated</font>\n",
    "\n",
    "    - <font style=\"color:white;\">No interesting probability statements to be made about **parameters**</font>\n",
    "\n",
    "\n",
    "<br>\n",
    "\n",
    "- ***BAYESIAN***:<font style=\"color:white;\"><br>The **uncertainty** in $\\theta$ can be modeled as (**posterior**) **distribution** $p(\\theta|x)$</font>\n",
    "\n",
    "    - <font style=\"color:white;\">All statements about **parameters** are probability statements</font><br><br>\n",
    "    \n",
    "    - <font style=\"color:white;\">**Bayes theorem** coherently assess **parameter uncertainty** as a **posterior** $p(\\theta|x)$ given **likelihood** $f_\\theta(x) = p(x|\\theta)$ and **prior** $p(\\theta)$</font>"
   ]
  },
  {
   "cell_type": "markdown",
   "id": "b7515250",
   "metadata": {
    "slideshow": {
     "slide_type": "slide"
    }
   },
   "source": [
    "# Bayesian Versus Frequentist Philosophy<br>[5 minutes]\n",
    "\n",
    "- ***FREQUENTIST***:<br>**Parameter** $\\theta$ in a **likelihood** $f_\\theta(x)$ is a fixed value to be estimated\n",
    "\n",
    "    - No interesting probability statements to be made about **parameters**\n",
    "\n",
    "\n",
    "<br>\n",
    "\n",
    "- ***BAYESIAN***:<br>The **uncertainty** in $\\theta$ can be modeled as (**posterior**) **distribution** $p(\\theta|x)$\n",
    "\n",
    "    - All statements about **parameters** are probability statements<br><br>\n",
    "    \n",
    "    - **Bayes theorem** coherently assess **parameter uncertainty** as a **posterior** $p(\\theta|x)$ given **likelihood** $f_\\theta(x) = p(x|\\theta)$ and **prior** $p(\\theta)$"
   ]
  },
  {
   "cell_type": "markdown",
   "id": "abd97725",
   "metadata": {
    "slideshow": {
     "slide_type": "slide"
    }
   },
   "source": [
    "# Bayesian Terminology [10 minutes]\n",
    "---\n",
    "\\begin{align*}\n",
    "\\text{Likelihood} && p(x|\\theta) & \\quad \\text{ often written as }f_\\theta(x)\\\\\n",
    "\\text{Prior} && p(\\theta)\\\\\n",
    "\\text{Posterior} && p(\\theta|x) &={} \\overset{\\text{Bayes Theorem}}{\\frac{p(x|\\theta)p(\\theta)}{p(x)}} = \\frac{p(x, \\theta)}{p(x)} \\\\\\\\\n",
    "\\text{Marginal Likelihood} && p(x) &={} \\underset{\\text{Law of Total Probability}}{\\int p(x|\\theta)p(\\theta) d\\theta} \\\\\n",
    "\\text{Join Distribution} && p(\\theta,x) \\\\\n",
    "\\text{The Posterial is always} && p(\\theta|x) &\\propto{} p(\\theta,x)\\\\\n",
    "&&& \\text{proportional to the joint}\n",
    "\\end{align*}\n"
   ]
  },
  {
   "cell_type": "markdown",
   "id": "4666d9dd",
   "metadata": {
    "slideshow": {
     "slide_type": "slide"
    }
   },
   "source": [
    "# Bayesian/Sequential Learning [9 minutes]\n",
    "\n",
    "\\begin{align*}\n",
    "\\text{Conditional Independence} && p(x_2|\\theta) &={} p(x_2|x_1,\\theta) \\; \\text{ or } \\; (x_2 \\perp\\!\\!\\!\\perp x_1 | \\theta)\n",
    "\\end{align*}\n",
    "\n",
    "\\begin{align*}\n",
    "p(\\theta|x_2,x_1) &\\propto{} p(x_2, x_1, \\theta)\\\\\n",
    "& = {} \\underbrace{p(x_2| \\theta, x_1)} p(x_1 | \\theta) p(\\theta)\n",
    "\\color{gray}{\\longleftarrow \\text{chain rule}}\\\\\n",
    "& \\quad (x_2 \\perp\\!\\!\\!\\perp x_1 | \\theta)\\\\\n",
    "& = {} \\overbrace{\\;\\;p(x_2| \\theta)\\;\\;} \\underbrace{p(x_1 | \\theta) p(\\theta)}_{\\propto \\; p(\\theta|x_1)}\\\\\n",
    "&\\propto{}  p(x_2| \\theta) \\underbrace{p(\\theta | x_1)}_{\\text{new prior}} \\longleftarrow \\text{previous posterior}\n",
    "\\end{align*}\n",
    "\n",
    "A prior is updated to a posterior which becomes the new prior for the next data"
   ]
  },
  {
   "cell_type": "markdown",
   "id": "d82fa75d",
   "metadata": {
    "slideshow": {
     "slide_type": "slide"
    }
   },
   "source": [
    "# Bayesian/Sequential Learning [2 minutes]\n",
    "\n",
    "A prior is updated to a posterior which becomes the new prior for the next data\n",
    "\n",
    "\\begin{array}{llll}\n",
    "1.&&\\!\\!\\!\\!\\!\\!&\\!\\!\\!\\!\\!\\!p(\\theta | x_1) \\propto {} f(x_1|\\theta)p(\\theta) \\\\\n",
    "2.&&\\!\\!\\!\\!\\!\\! p(\\theta | x_1, x_2) \\propto f(x_2|\\theta)&\\!\\!\\!\\!\\!\\!p(\\theta | x_1) \\\\\n",
    "3.&p(\\theta | x_1, x_2, x_3) \\propto{} f(x_3|\\theta) & \\!\\!\\!\\!\\!\\! p(\\theta | x_1, x_2)  \\\\\n",
    "\\vdots\\\\\n",
    "\\end{array}\n",
    "\n",
    "<p style=\"color:white;\">\n",
    "### Is this different from Batch Updates? [5 minutes]\n",
    "\n",
    "$$\\color{white}{p(\\theta | x_1, x_2, x_3) \\propto \\underbrace{f(x_1|\\theta)f(x_2|\\theta)f(x_3|\\theta)p(\\theta)}_{\\left[ \\prod_{i=1}^{3}f(x_i|\\theta)\\right]p(\\theta)}\n",
    "\\overset{(x_i \\perp\\!\\!\\perp x_j | \\theta)}{=} f(x_1,x_2,x_3|\\theta)p(\\theta)}$$\n",
    "</p>"
   ]
  },
  {
   "cell_type": "markdown",
   "id": "fe418f76",
   "metadata": {
    "slideshow": {
     "slide_type": "slide"
    }
   },
   "source": [
    "# Bayesian/Sequential Learning\n",
    "\n",
    "A prior is updated to a posterior which becomes the new prior for the next data\n",
    "\n",
    "\\begin{array}{llll}\n",
    "1.&&\\!\\!\\!\\!\\!\\!&\\!\\!\\!\\!\\!\\!p(\\theta | x_1) \\propto {} f(x_1|\\theta)p(\\theta) \\\\\n",
    "2.&&\\!\\!\\!\\!\\!\\! p(\\theta | x_1, x_2) \\propto f(x_2|\\theta)&\\!\\!\\!\\!\\!\\!p(\\theta | x_1) \\\\\n",
    "3.&p(\\theta | x_1, x_2, x_3) \\propto{} f(x_3|\\theta) & \\!\\!\\!\\!\\!\\! p(\\theta | x_1, x_2)  \\\\\n",
    "\\vdots\\\\\n",
    "\\end{array}\n",
    "\n",
    "### Is this different from Batch Updates? [5 minutes]\n",
    "\n",
    "$$p(\\theta | x_1, x_2, x_3) \\propto f(x_1,x_2,x_3|\\theta)p(\\theta)\n",
    "\\overset{(x_i \\perp\\!\\!\\perp x_j | \\theta)}{=} \\underbrace{f(x_1|\\theta)f(x_2|\\theta)f(x_3|\\theta)p(\\theta)}_{\\left[ \\prod_{i=1}^{3}f(x_i|\\theta)\\right]p(\\theta)} $$"
   ]
  },
  {
   "cell_type": "markdown",
   "id": "30514bc9",
   "metadata": {
    "slideshow": {
     "slide_type": "slide"
    }
   },
   "source": [
    "# Criticisms of Bayesian Analysis [3 minutes]\n",
    "\n",
    "- <font style=\"color:white;\">\"Your prior is subjective\"</font>\n",
    "\n",
    "    - <font style=\"color:white;\">Response: \"Your likelihood is subjective\",<br>\"Your model selection is subjective\", etc. Where does this stop...?</font>\n",
    "    \n",
    "        - <font style=\"color:white;\">Affects **Frequentists** as well...<br>\"All models are wrong, some are useful.\"</font>\n",
    "        \n",
    "        \n",
    "- <font style=\"color:white;\">\"Bayesian analysis is computationally expensive\"</font>\n",
    "\n",
    "    - <font style=\"color:white;\">Response: In the end, a method is or is not computationally tractiable. Faster methods may always be preferred...</font>\n",
    "    \n",
    "        - <font style=\"color:white;\">There will be things you **can't** do unless you're ***Bayesian***</font>\n",
    "  "
   ]
  },
  {
   "cell_type": "markdown",
   "id": "d844c99b",
   "metadata": {
    "slideshow": {
     "slide_type": "slide"
    }
   },
   "source": [
    "# Criticisms of Bayesian Analysis [6 minutes]\n",
    "\n",
    "- \"Your prior is subjective\"\n",
    "\n",
    "    - Response: \"Your likelihood is subjective\",<br>\"Your model selection is subjective\", etc. Where does this stop...?\n",
    "    \n",
    "        - Affects **Frequentists** as well...<br>\"All models are wrong, some are useful.\"\n",
    "        \n",
    "        \n",
    "- \"Bayesian analysis is computationally expensive\"\n",
    "\n",
    "    - Response: In the end, a method is or is not computationally tractiable. Faster methods may always be preferred...\n",
    "    \n",
    "        - There will be things you **can't** do unless you're ***Bayesian***</font>\n",
    "  "
   ]
  },
  {
   "cell_type": "markdown",
   "id": "854acef9",
   "metadata": {
    "slideshow": {
     "slide_type": "slide"
    }
   },
   "source": [
    "# A first (toy) model: beta-binomial [15 minutes]\n",
    "\n",
    "\\begin{align*}\n",
    "p(x|\\theta,n) &={} \\left( \\begin{array}{c}n\\\\x\\end{array}\\right) \\theta^{x}(1-\\theta)^{n-x} \\quad\\quad\\;\\;\\; [n \\text{ given}]\\\\\n",
    "p(\\theta|\\alpha,\\beta) &={} \\frac{\\Gamma(\\alpha+\\beta)}{\\Gamma(\\alpha)\\Gamma(\\beta)}\\theta^{\\alpha-1}(1-\\theta)^{\\beta-1} \\quad \\begin{array}{l}\\text{$\\alpha$ and $\\beta$ are called}\\\\ \\textbf{hyperparameters}\\end{array}\\\\\n",
    "p(\\theta|x) &={} ?\\\\\n",
    "\\text{Hint: } p(\\theta|x) &\\propto{} p(\\theta,x)\\\\\n",
    "&={} p(x|\\theta)p(\\theta)\\\\\n",
    "&={} \\left( \\begin{array}{c}n\\\\k\\end{array}\\right) \\theta^{x}(1-\\theta)^{n-x} \\frac{\\Gamma(\\alpha+\\beta)}{\\Gamma(\\alpha)\\Gamma(\\beta)}\\theta^{\\alpha-1}(1-\\theta)^{\\beta-1}\\\\\n",
    "&\\propto{}  \\theta^{x}(1-\\theta)^{n-x} \\theta^{\\alpha-1}(1-\\theta)^{\\beta-1}\\\\\n",
    "&={}  \\theta^{x+\\alpha-1}(1-\\theta)^{n-x+\\beta-1} \\Rightarrow \\; \\text{What distribution?}\n",
    "\\end{align*}"
   ]
  },
  {
   "cell_type": "markdown",
   "id": "c8b84c2c",
   "metadata": {
    "slideshow": {
     "slide_type": "slide"
    }
   },
   "source": [
    "# # The \"Classic Bayes\" Figure [10 minutes]"
   ]
  },
  {
   "cell_type": "code",
   "execution_count": 3,
   "id": "bd186514",
   "metadata": {},
   "outputs": [
    {
     "data": {
      "image/png": "[encoded data removed]",
      "text/plain": [
       "<Figure size 1200x400 with 1 Axes>"
      ]
     },
     "metadata": {},
     "output_type": "display_data"
    }
   ],
   "source": [
    "import numpy as np; from scipy import stats; import matplotlib.pyplot as plt\n",
    "n,x=10,8; alpha,beta=10,11; parameter_domain = np.linspace(0,1,1001)\n",
    "likelihood = stats.binom.pmf(n=n, k=x, p=parameter_domain)\n",
    "prior = stats.beta(a=alpha,b=beta).pdf(parameter_domain)\n",
    "c = 8.75; joint = c*likelihood*prior # elementwise multiplication\n",
    "posterior = stats.beta(a=x+alpha,b=n-x+beta).pdf(parameter_domain)\n",
    "plt.figure(figsize=(12,4)); plt.plot(parameter_domain, likelihood, label=\"likelihood\"); plt.plot(parameter_domain, prior, label=\"prior\"); plt.plot(parameter_domain, posterior, label=\"posterior\"); plt.plot(parameter_domain, joint, linestyle=\"--\", label=\"joint (times scalar \"+str(c)+\")\"); plt.legend(); plt.title(\"Visualize various priors, likelihoods, posteriors... and joint distribution (which is proportional to...)\"); "
   ]
  },
  {
   "cell_type": "markdown",
   "id": "3f81eb51",
   "metadata": {
    "slideshow": {
     "slide_type": "slide"
    }
   },
   "source": [
    "# Homework #1: AB-testing<br>and the Multi-Armed Bayesian Bandit\n",
    "\n",
    "### You have three choices... choose wisely, my friends...\n",
    "\n",
    "\n",
    "|Option|The \"Red\" one|The \"Blue\" one|The \"Other\" one|\n",
    "|-|-|-|-|\n",
    "|Unknown Probability of Success|$\\theta_A$ | $\\theta_B$ | $\\theta_C$ |\n",
    "\n",
    "$$p(\\theta_j|x_j,n_j) \\propto \\theta^{x_j+\\alpha_j-1}(1-\\theta_j)^{n-x+\\beta_j-1}  \\Rightarrow \\; \\text{What distribution?}$$\n",
    "\n",
    "- Try one out, and collect that data update...\n",
    "    - What's the data?\n",
    "    - What's the update for the posterior in question?\n",
    "- Which one of the three choices will you try out? How will you choose? \n",
    "\n",
    "\n",
    "- Hints: <u>You can use *simulation* to find out the *relative belief* (i.e., probability) that each of the choices is the best.</u> Posterior distributions characterize your beliefs about the parameters $\\theta_A, \\theta_B$ and $\\theta_C$. What can you learn by repeatedly sampling values from the posterior distribution while comparing the values of each triplet? If you know the chances that A, B, and C are the best choice, how could you balance ***exploration versus exploitation*** when choosing which of the possible options to collect the next data point on next?\n",
    "\n"
   ]
  },
  {
   "cell_type": "markdown",
   "id": "9a9d8950",
   "metadata": {},
   "source": [
    "## I. Posterior Distribution\n",
    "The posterior distribution is given as $p(\\theta_j|x_j,n_j) \\propto \\theta_{j}^{x_j+\\alpha_j-1}(1-\\theta_j)^{n-x+\\beta_j-1}$, which can be broken down to two major components: beta and binomial distributions.\n",
    "It can be seen that the conjugate prior follows a $Beta(\\alpha_{j}, \\beta_{j})$ distribution with the probability density function(PDF) as $p(\\theta) \\propto \\theta_{j}^{\\alpha_{j} - 1}(1 - \\theta_{j})^{\\beta{j} - 1}$. Since Beta distribution has the range $(0,1)$, $\\theta$ as the probability of success is what the beta distribution models. The parameters $\\alpha_{j}$ and $\\beta_{j}$ are the infomation needed to update the prior distributions.\n",
    "The likelihood distribution follows $Binom(n, \\theta)$ where n is a preset known constant. The PDF is $p(x) \\propto \\theta^{x}(1-\\theta)^{n-x}$. This is the distribution that describes how likely it is to get the observed data $x_j$ given the parameter $\\theta$. \n",
    "Thus, it follows that the posterior has a beta-binomial distribution.\n",
    "\n",
    "## II. Implementation Process\n",
    "\n",
    "To start with, the unknown probability of success that I have inputed are $\\theta_A=0.3$, $\\theta_B=0.5$, and $\\theta_C=0.7$ respectively. It follows that the posterior distribution of $\\theta_j$ given the data $x_j$ and $n_j$ comes from a beta distribution. I initiate all three priors to be $Beta(1,1)$ distribution, which is essentially uniform at the very beginning. While the 'player' samples from those three distributions, the actual results (success or failure) are reflected as $\\alpha_j$ (number of successes) and $\\beta_j$ (number of failures), which in turn affects the probability of the prior selected in the next round. The data should be the choice made among all three, and the $\\alpha$ and $\\beta$ which determines the characteristics of the priors."
   ]
  },
  {
   "cell_type": "code",
   "execution_count": 5,
   "id": "44756480",
   "metadata": {},
   "outputs": [
    {
     "name": "stdout",
     "output_type": "stream",
     "text": [
      "[('N/A', (1, 1), (1, 1), (1, 1)), ('C', (1, 1), (1, 1), (8, 4)), ('C', (1, 1), (1, 1), (14, 8)), ('B', (1, 1), (7, 5), (14, 8)), ('A', (7, 5), (7, 5), (14, 8)), ('A', (8, 14), (7, 5), (14, 8)), ('C', (8, 14), (7, 5), (23, 9)), ('C', (8, 14), (7, 5), (31, 11)), ('C', (8, 14), (7, 5), (40, 12)), ('C', (8, 14), (7, 5), (48, 14)), ('C', (8, 14), (7, 5), (56, 16)), ('C', (8, 14), (7, 5), (64, 18)), ('C', (8, 14), (7, 5), (71, 21)), ('C', (8, 14), (7, 5), (78, 24)), ('C', (8, 14), (7, 5), (87, 25)), ('C', (8, 14), (7, 5), (94, 28))]\n",
      "C is the best choice!\n",
      "The prior parameters for A, B, and C are (8, 14), (7, 5), (94, 28) respectively.\n"
     ]
    }
   ],
   "source": [
    "import numpy as np\n",
    "from scipy import stats\n",
    "\n",
    "np.random.seed(1006668633) # set seed\n",
    "real_thetas = {'A': 0.3, 'B': 0.5, 'C': 0.7} # The real probabilities\n",
    "labels = ['A', 'B', 'C'] # The labels that refers to the choices\n",
    "\n",
    "def find_label(PriorA, PriorB, PriorC):\n",
    "    '''\n",
    "    Return the label that maximizes the probability.\n",
    "    '''\n",
    "    rv_a = stats.beta.rvs(PriorA[0], PriorA[1])\n",
    "    rv_b = stats.beta.rvs(PriorB[0], PriorB[1])\n",
    "    rv_c = stats.beta.rvs(PriorC[0], PriorC[1])\n",
    "    return labels[np.argmax([rv_a, rv_b, rv_c])]\n",
    "\n",
    "def simulate_binomial(real_theta, label, n):\n",
    "    '''\n",
    "    A Binomial trial that simulates the actual output. Return the number of successes out of all n trials.\n",
    "    '''\n",
    "    return stats.binom.rvs(n, real_theta[label])\n",
    "\n",
    "def update(label, PriorA, PriorB, PriorC, res, n):\n",
    "    '''\n",
    "    Update the posterior by adjusting the shape parameters.\n",
    "    '''\n",
    "    if label == 'A':\n",
    "        PriorA = (PriorA[0] + res, PriorA[1] + n - res)\n",
    "    elif label == 'B':\n",
    "        PriorB = (PriorB[0] + res, PriorB[1] + n - res)\n",
    "    else:\n",
    "        PriorC = (PriorC[0] + res, PriorC[1] + n - res)\n",
    "    return PriorA, PriorB, PriorC\n",
    "\n",
    "def give_it_a_go(PriorA, PriorB, PriorC, n):\n",
    "    '''\n",
    "    All it takes to give it a go. Run the simulation once.\n",
    "    '''\n",
    "    label = find_label(PriorA, PriorB, PriorC)\n",
    "    res = simulate_binomial(real_thetas, label, n)\n",
    "    PriorA, PriorB, PriorC = update(label, PriorA, PriorB, PriorC, res, n)\n",
    "    return label, PriorA, PriorB, PriorC\n",
    "\n",
    "def last_elements_same(list, num):\n",
    "    '''\n",
    "    Check that the first element of the last ten tuples of the data list are the same.\n",
    "    '''\n",
    "    if len(list) < num:\n",
    "        return False\n",
    "    \n",
    "    last = list[-1][0]\n",
    "    i = -2  \n",
    "    count = 1  \n",
    "    \n",
    "    while i >= -num:\n",
    "        if list[i][0] != last:\n",
    "            return False\n",
    "        count += 1\n",
    "        i -= 1\n",
    "        \n",
    "    return count == num\n",
    "\n",
    "PriorA, PriorB, PriorC = (1,1), (1,1), (1,1)\n",
    "data = [(\"N/A\", PriorA, PriorB, PriorC)]\n",
    "n = 10 # number of successes recorded for a Binomial(10, theta) trial\n",
    "while not last_elements_same(data, 10):\n",
    "    label, PriorA, PriorB, PriorC = give_it_a_go(PriorA, PriorB, PriorC, n)\n",
    "    data.append((label, PriorA, PriorB, PriorC))\n",
    "print(data)\n",
    "print(data[-1][0] + \" is the best choice!\")\n",
    "print(\"The prior parameters for A, B, and C are \" + str(data[-1][1]) + \", \" + str(data[-1][2]) + \", \" + str(data[-1][3]) + \" respectively.\")"
   ]
  },
  {
   "cell_type": "markdown",
   "id": "89ca541a",
   "metadata": {},
   "source": [
    "## III. Interpretation of Results\n",
    "From the result it can be seen that a balance has been reached between exploration and exploitation. Both A and B are explored but only C is exploited until the end of the result. The point of the balance shown by this algorithm is that even until the point where C is almost sure to be the best choice, there is still a low chance that A or B are selected. This make sure that it is still possible for the 'player' to try other games as well. In the end, since C is being selected consecutively for ten times, the algorithm concludes that the C is the best choice. "
   ]
  }
 ],
 "metadata": {
  "celltoolbar": "Slideshow",
  "kernelspec": {
   "display_name": "Python 3 (ipykernel)",
   "language": "python",
   "name": "python3"
  },
  "language_info": {
   "codemirror_mode": {
    "name": "ipython",
    "version": 3
   },
   "file_extension": ".py",
   "mimetype": "text/x-python",
   "name": "python",
   "nbconvert_exporter": "python",
   "pygments_lexer": "ipython3",
   "version": "3.11.6"
  }
 },
 "nbformat": 4,
 "nbformat_minor": 5
}
